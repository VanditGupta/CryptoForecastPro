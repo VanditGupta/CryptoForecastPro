{
 "cells": [
  {
   "cell_type": "code",
   "execution_count": 1,
   "metadata": {},
   "outputs": [],
   "source": [
    "# Import necessary libraries\n",
    "import pandas as pd\n",
    "import matplotlib.pyplot as plt\n",
    "import seaborn as sns\n",
    "import os"
   ]
  },
  {
   "cell_type": "code",
   "execution_count": 2,
   "metadata": {},
   "outputs": [],
   "source": [
    "# Load historical data\n",
    "historical_data_path = \"../data/historical_crypto_reddit_merged_historical/engineered_historical_data.csv\"\n",
    "historical_data = pd.read_csv(historical_data_path)"
   ]
  },
  {
   "cell_type": "code",
   "execution_count": 3,
   "metadata": {},
   "outputs": [
    {
     "name": "stdout",
     "output_type": "stream",
     "text": [
      "Dataset Overview:\n",
      "<class 'pandas.core.frame.DataFrame'>\n",
      "RangeIndex: 8318 entries, 0 to 8317\n",
      "Data columns (total 25 columns):\n",
      " #   Column                       Non-Null Count  Dtype  \n",
      "---  ------                       --------------  -----  \n",
      " 0   Date                         8318 non-null   object \n",
      " 1   Symbol                       8318 non-null   object \n",
      " 2   Open                         8318 non-null   float64\n",
      " 3   High                         8318 non-null   float64\n",
      " 4   Low                          8318 non-null   float64\n",
      " 5   Close                        8318 non-null   float64\n",
      " 6   Sentiment_Score              8318 non-null   float64\n",
      " 7   Score                        8318 non-null   int64  \n",
      " 8   Comments                     8318 non-null   int64  \n",
      " 9   Title                        8318 non-null   object \n",
      " 10  Content                      8318 non-null   object \n",
      " 11  Row_Count                    8318 non-null   int64  \n",
      " 12  Sentiment_Label              8318 non-null   object \n",
      " 13  Sentiment_Lag_1              8318 non-null   float64\n",
      " 14  Score_Lag_1                  8318 non-null   float64\n",
      " 15  Comments_Lag_1               8318 non-null   float64\n",
      " 16  Sentiment_Lag_3              8318 non-null   float64\n",
      " 17  Score_Lag_3                  8318 non-null   float64\n",
      " 18  Comments_Lag_3               8318 non-null   float64\n",
      " 19  Sentiment_Lag_7              8318 non-null   float64\n",
      " 20  Score_Lag_7                  8318 non-null   float64\n",
      " 21  Comments_Lag_7               8318 non-null   float64\n",
      " 22  Price_Change                 8318 non-null   float64\n",
      " 23  Normalized_Sentiment_Score   8318 non-null   float64\n",
      " 24  Sentiment_Score_Interaction  8318 non-null   float64\n",
      "dtypes: float64(17), int64(3), object(5)\n",
      "memory usage: 1.6+ MB\n",
      "None\n",
      "\n",
      "Summary Statistics:\n",
      "               Open          High           Low         Close  \\\n",
      "count   8318.000000   8318.000000   8318.000000   8318.000000   \n",
      "mean    5010.209494   5127.973826   4889.217811   5016.599979   \n",
      "std    14457.707712  14787.177098  14120.597891  14475.341632   \n",
      "min        0.002675      0.002705      0.002639      0.002680   \n",
      "25%        0.545676      0.565253      0.524052      0.545838   \n",
      "50%        1.001516      1.007329      1.000040      1.001567   \n",
      "75%      421.692025    433.699900    408.068805    420.933276   \n",
      "max    76539.970000  81233.280000  76539.970000  80409.970000   \n",
      "\n",
      "       Sentiment_Score         Score      Comments    Row_Count  \\\n",
      "count      8318.000000   8318.000000   8318.000000  8318.000000   \n",
      "mean          0.411390   1407.363308    344.194999     2.290815   \n",
      "std           0.484931   3826.328858   1079.375325     1.917422   \n",
      "min          -0.999300      0.000000      0.000000     1.000000   \n",
      "25%           0.000000      6.000000     11.000000     1.000000   \n",
      "50%           0.475475    121.000000     67.000000     2.000000   \n",
      "75%           0.881775   1233.000000    323.750000     3.000000   \n",
      "max           1.000000  81385.000000  63799.000000    30.000000   \n",
      "\n",
      "       Sentiment_Lag_1   Score_Lag_1  Comments_Lag_1  Sentiment_Lag_3  \\\n",
      "count      8318.000000   8318.000000     8318.000000      8318.000000   \n",
      "mean          0.410990   1407.103390      344.015989         0.409942   \n",
      "std           0.484819   3826.403087     1079.410788         0.484404   \n",
      "min          -0.999300      0.000000        0.000000        -0.999300   \n",
      "25%           0.000000      6.000000       10.000000         0.000000   \n",
      "50%           0.475287    120.000000       67.000000         0.473317   \n",
      "75%           0.880775   1233.000000      322.750000         0.879332   \n",
      "max           1.000000  81385.000000    63799.000000         1.000000   \n",
      "\n",
      "        Score_Lag_3  Comments_Lag_3  Sentiment_Lag_7   Score_Lag_7  \\\n",
      "count   8318.000000     8318.000000      8318.000000   8318.000000   \n",
      "mean    1405.796465      343.514066         0.408453   1403.240563   \n",
      "std     3826.527463     1079.428681         0.483349   3826.772643   \n",
      "min        0.000000        0.000000        -0.999300      0.000000   \n",
      "25%        6.000000       10.000000         0.000000      6.000000   \n",
      "50%      119.000000       66.000000         0.469600    115.000000   \n",
      "75%     1232.500000      321.000000         0.877179   1230.000000   \n",
      "max    81385.000000    63799.000000         1.000000  81385.000000   \n",
      "\n",
      "       Comments_Lag_7  Price_Change  Normalized_Sentiment_Score  \\\n",
      "count     8318.000000   8318.000000                 8318.000000   \n",
      "mean       342.541717      6.390484                    0.256365   \n",
      "std       1079.532145    513.585514                    0.413751   \n",
      "min          0.000000  -6195.416871                   -0.999300   \n",
      "25%         10.000000     -0.016852                    0.000000   \n",
      "50%         65.000000      0.000000                    0.168406   \n",
      "75%        318.000000      0.026635                    0.487088   \n",
      "max      63799.000000   7368.379461                    1.000000   \n",
      "\n",
      "       Sentiment_Score_Interaction  \n",
      "count                  8318.000000  \n",
      "mean                    597.065394  \n",
      "std                    2166.744018  \n",
      "min                  -35729.187000  \n",
      "25%                       0.000000  \n",
      "50%                       9.735950  \n",
      "75%                     449.485450  \n",
      "max                   71121.318300  \n"
     ]
    }
   ],
   "source": [
    "# Display basic information about the dataset\n",
    "print(\"Dataset Overview:\")\n",
    "print(historical_data.info())\n",
    "print(\"\\nSummary Statistics:\")\n",
    "print(historical_data.describe())"
   ]
  },
  {
   "cell_type": "code",
   "execution_count": 4,
   "metadata": {},
   "outputs": [
    {
     "name": "stdout",
     "output_type": "stream",
     "text": [
      "\n",
      "Missing Values:\n",
      "Date                           0\n",
      "Symbol                         0\n",
      "Open                           0\n",
      "High                           0\n",
      "Low                            0\n",
      "Close                          0\n",
      "Sentiment_Score                0\n",
      "Score                          0\n",
      "Comments                       0\n",
      "Title                          0\n",
      "Content                        0\n",
      "Row_Count                      0\n",
      "Sentiment_Label                0\n",
      "Sentiment_Lag_1                0\n",
      "Score_Lag_1                    0\n",
      "Comments_Lag_1                 0\n",
      "Sentiment_Lag_3                0\n",
      "Score_Lag_3                    0\n",
      "Comments_Lag_3                 0\n",
      "Sentiment_Lag_7                0\n",
      "Score_Lag_7                    0\n",
      "Comments_Lag_7                 0\n",
      "Price_Change                   0\n",
      "Normalized_Sentiment_Score     0\n",
      "Sentiment_Score_Interaction    0\n",
      "dtype: int64\n"
     ]
    }
   ],
   "source": [
    "# Check for missing values\n",
    "missing_values = historical_data.isnull().sum()\n",
    "print(\"\\nMissing Values:\")\n",
    "print(missing_values)"
   ]
  },
  {
   "cell_type": "code",
   "execution_count": 5,
   "metadata": {},
   "outputs": [],
   "source": [
    "# Base output directory\n",
    "output_dir = \"crypto_time_series_charts\"\n",
    "os.makedirs(output_dir, exist_ok=True)"
   ]
  },
  {
   "cell_type": "code",
   "execution_count": 6,
   "metadata": {},
   "outputs": [
    {
     "name": "stdout",
     "output_type": "stream",
     "text": [
      "Yearly charts will be saved in: crypto_time_series_charts/yearly_charts\n",
      "Yearly chart saved for ADA: crypto_time_series_charts/yearly_charts/ADA_yearly_price_change.png\n",
      "Yearly chart saved for BNB: crypto_time_series_charts/yearly_charts/BNB_yearly_price_change.png\n",
      "Yearly chart saved for BTC: crypto_time_series_charts/yearly_charts/BTC_yearly_price_change.png\n",
      "Yearly chart saved for DOGE: crypto_time_series_charts/yearly_charts/DOGE_yearly_price_change.png\n",
      "Yearly chart saved for ETH: crypto_time_series_charts/yearly_charts/ETH_yearly_price_change.png\n",
      "Yearly chart saved for SOL: crypto_time_series_charts/yearly_charts/SOL_yearly_price_change.png\n",
      "Yearly chart saved for TRX: crypto_time_series_charts/yearly_charts/TRX_yearly_price_change.png\n",
      "Yearly chart saved for USDC: crypto_time_series_charts/yearly_charts/USDC_yearly_price_change.png\n",
      "Yearly chart saved for USDT: crypto_time_series_charts/yearly_charts/USDT_yearly_price_change.png\n",
      "Yearly chart saved for XRP: crypto_time_series_charts/yearly_charts/XRP_yearly_price_change.png\n"
     ]
    }
   ],
   "source": [
    "# Create a subfolder for yearly charts\n",
    "yearly_charts_dir = os.path.join(output_dir, \"yearly_charts\")\n",
    "os.makedirs(yearly_charts_dir, exist_ok=True)\n",
    "\n",
    "# Print the path for verification\n",
    "print(f\"Yearly charts will be saved in: {yearly_charts_dir}\")\n",
    "\n",
    "# Proceed with the rest of the yearly chart code\n",
    "# Aggregate data yearly\n",
    "historical_data['Year'] = pd.to_datetime(historical_data['Date']).dt.year\n",
    "yearly_data = historical_data.groupby(['Symbol', 'Year']).agg({'Price_Change': 'mean'}).reset_index()\n",
    "\n",
    "# Loop through each unique cryptocurrency symbol\n",
    "for symbol in yearly_data['Symbol'].unique():\n",
    "    # Filter data for the current cryptocurrency\n",
    "    symbol_data = yearly_data[yearly_data['Symbol'] == symbol]\n",
    "    \n",
    "    # Plot the yearly time-series chart for the current cryptocurrency\n",
    "    plt.figure(figsize=(12, 6))\n",
    "    plt.plot(symbol_data['Year'], symbol_data['Price_Change'], marker='o', label=f\"{symbol}\")\n",
    "    plt.title(f\"Yearly Average Price Change for {symbol}\")\n",
    "    plt.xlabel(\"Year\")\n",
    "    plt.ylabel(\"Average Price Change (Close - Open)\")\n",
    "    plt.legend()\n",
    "    plt.xticks(symbol_data['Year'], rotation=45)\n",
    "    plt.tight_layout()\n",
    "    \n",
    "    # Save the chart as an image file\n",
    "    chart_path = os.path.join(yearly_charts_dir, f\"{symbol}_yearly_price_change.png\")\n",
    "    plt.savefig(chart_path)\n",
    "    plt.close()  # Close the plot to free memory\n",
    "\n",
    "    print(f\"Yearly chart saved for {symbol}: {chart_path}\")"
   ]
  },
  {
   "cell_type": "code",
   "execution_count": 7,
   "metadata": {},
   "outputs": [
    {
     "name": "stdout",
     "output_type": "stream",
     "text": [
      "Monthly charts will be saved in: crypto_time_series_charts/monthly_charts\n",
      "Monthly chart saved for ADA: crypto_time_series_charts/monthly_charts/ADA_monthly_price_change.png\n",
      "Monthly chart saved for BNB: crypto_time_series_charts/monthly_charts/BNB_monthly_price_change.png\n",
      "Monthly chart saved for BTC: crypto_time_series_charts/monthly_charts/BTC_monthly_price_change.png\n",
      "Monthly chart saved for DOGE: crypto_time_series_charts/monthly_charts/DOGE_monthly_price_change.png\n",
      "Monthly chart saved for ETH: crypto_time_series_charts/monthly_charts/ETH_monthly_price_change.png\n",
      "Monthly chart saved for SOL: crypto_time_series_charts/monthly_charts/SOL_monthly_price_change.png\n",
      "Monthly chart saved for TRX: crypto_time_series_charts/monthly_charts/TRX_monthly_price_change.png\n",
      "Monthly chart saved for USDC: crypto_time_series_charts/monthly_charts/USDC_monthly_price_change.png\n",
      "Monthly chart saved for USDT: crypto_time_series_charts/monthly_charts/USDT_monthly_price_change.png\n",
      "Monthly chart saved for XRP: crypto_time_series_charts/monthly_charts/XRP_monthly_price_change.png\n"
     ]
    }
   ],
   "source": [
    "import os\n",
    "import pandas as pd\n",
    "import matplotlib.pyplot as plt\n",
    "\n",
    "# Create the main folder for saving charts\n",
    "output_dir = \"crypto_time_series_charts\"\n",
    "os.makedirs(output_dir, exist_ok=True)\n",
    "\n",
    "# Create a subfolder for monthly charts\n",
    "monthly_charts_dir = os.path.join(output_dir, \"monthly_charts\")\n",
    "os.makedirs(monthly_charts_dir, exist_ok=True)\n",
    "\n",
    "print(f\"Monthly charts will be saved in: {monthly_charts_dir}\")\n",
    "\n",
    "# Convert Date column to datetime if not already\n",
    "historical_data['Date'] = pd.to_datetime(historical_data['Date'])\n",
    "\n",
    "# Create a \"Month\" column (year and month combined)\n",
    "historical_data['Month'] = historical_data['Date'].dt.to_period('M')\n",
    "\n",
    "# Group data by Symbol and Month and calculate average price change\n",
    "monthly_data = historical_data.groupby(['Symbol', 'Month']).agg(\n",
    "    Avg_Price_Change=('Price_Change', 'mean')\n",
    ").reset_index()\n",
    "\n",
    "# Convert \"Month\" back to datetime for plotting\n",
    "monthly_data['Month'] = monthly_data['Month'].dt.to_timestamp()\n",
    "\n",
    "# Loop through each unique cryptocurrency symbol\n",
    "for symbol in monthly_data['Symbol'].unique():\n",
    "    symbol_data = monthly_data[monthly_data['Symbol'] == symbol]\n",
    "\n",
    "    # Plot the monthly average price change for the current cryptocurrency\n",
    "    plt.figure(figsize=(12, 6))\n",
    "    plt.plot(symbol_data['Month'], symbol_data['Avg_Price_Change'], label=f\"{symbol}\", marker='o')\n",
    "    plt.title(f\"Monthly Average Price Change for {symbol}\")\n",
    "    plt.xlabel(\"Month\")\n",
    "    plt.ylabel(\"Average Price Change (Close - Open)\")\n",
    "    plt.legend()\n",
    "    plt.xticks(rotation=45)\n",
    "    plt.tight_layout()\n",
    "\n",
    "    # Save the chart as an image file\n",
    "    chart_path = os.path.join(monthly_charts_dir, f\"{symbol}_monthly_price_change.png\")\n",
    "    plt.savefig(chart_path)\n",
    "    plt.close()  # Close the plot to free memory\n",
    "\n",
    "    print(f\"Monthly chart saved for {symbol}: {chart_path}\")\n"
   ]
  },
  {
   "cell_type": "code",
   "execution_count": 9,
   "metadata": {},
   "outputs": [
    {
     "name": "stdout",
     "output_type": "stream",
     "text": [
      "Sentiment Score Distribution chart saved for ADA: crypto_time_series_charts/sentiment_analysis/distribution/ADA_sentiment_distribution.png\n",
      "Sentiment Score Distribution chart saved for BNB: crypto_time_series_charts/sentiment_analysis/distribution/BNB_sentiment_distribution.png\n",
      "Sentiment Score Distribution chart saved for BTC: crypto_time_series_charts/sentiment_analysis/distribution/BTC_sentiment_distribution.png\n",
      "Sentiment Score Distribution chart saved for DOGE: crypto_time_series_charts/sentiment_analysis/distribution/DOGE_sentiment_distribution.png\n",
      "Sentiment Score Distribution chart saved for ETH: crypto_time_series_charts/sentiment_analysis/distribution/ETH_sentiment_distribution.png\n",
      "Sentiment Score Distribution chart saved for SOL: crypto_time_series_charts/sentiment_analysis/distribution/SOL_sentiment_distribution.png\n",
      "Sentiment Score Distribution chart saved for TRX: crypto_time_series_charts/sentiment_analysis/distribution/TRX_sentiment_distribution.png\n",
      "Sentiment Score Distribution chart saved for USDC: crypto_time_series_charts/sentiment_analysis/distribution/USDC_sentiment_distribution.png\n",
      "Sentiment Score Distribution chart saved for USDT: crypto_time_series_charts/sentiment_analysis/distribution/USDT_sentiment_distribution.png\n",
      "Sentiment Score Distribution chart saved for XRP: crypto_time_series_charts/sentiment_analysis/distribution/XRP_sentiment_distribution.png\n"
     ]
    }
   ],
   "source": [
    "# Create a subfolder for sentiment score distribution charts\n",
    "sentiment_distribution_dir = os.path.join(output_dir, \"sentiment_analysis\", \"distribution\")\n",
    "os.makedirs(sentiment_distribution_dir, exist_ok=True)\n",
    "\n",
    "# Generate sentiment score distribution charts\n",
    "for symbol in historical_data['Symbol'].unique():\n",
    "    symbol_data = historical_data[historical_data['Symbol'] == symbol]\n",
    "    plt.figure(figsize=(12, 6))\n",
    "    plt.hist(symbol_data['Sentiment_Score'], bins=30, alpha=0.7, label=f\"{symbol}\")\n",
    "    plt.title(f\"Sentiment Score Distribution for {symbol}\")\n",
    "    plt.xlabel(\"Sentiment Score\")\n",
    "    plt.ylabel(\"Frequency\")\n",
    "    plt.tight_layout()\n",
    "    chart_path = os.path.join(sentiment_distribution_dir, f\"{symbol}_sentiment_distribution.png\")\n",
    "    plt.savefig(chart_path)\n",
    "    plt.close()\n",
    "    print(f\"Sentiment Score Distribution chart saved for {symbol}: {chart_path}\")\n"
   ]
  },
  {
   "cell_type": "code",
   "execution_count": 10,
   "metadata": {},
   "outputs": [
    {
     "name": "stdout",
     "output_type": "stream",
     "text": [
      "Price vs Sentiment chart saved for ADA: crypto_time_series_charts/price_vs_sentiment/ADA_price_vs_sentiment.png\n",
      "Price vs Sentiment chart saved for BNB: crypto_time_series_charts/price_vs_sentiment/BNB_price_vs_sentiment.png\n",
      "Price vs Sentiment chart saved for BTC: crypto_time_series_charts/price_vs_sentiment/BTC_price_vs_sentiment.png\n",
      "Price vs Sentiment chart saved for DOGE: crypto_time_series_charts/price_vs_sentiment/DOGE_price_vs_sentiment.png\n",
      "Price vs Sentiment chart saved for ETH: crypto_time_series_charts/price_vs_sentiment/ETH_price_vs_sentiment.png\n",
      "Price vs Sentiment chart saved for SOL: crypto_time_series_charts/price_vs_sentiment/SOL_price_vs_sentiment.png\n",
      "Price vs Sentiment chart saved for TRX: crypto_time_series_charts/price_vs_sentiment/TRX_price_vs_sentiment.png\n",
      "Price vs Sentiment chart saved for USDC: crypto_time_series_charts/price_vs_sentiment/USDC_price_vs_sentiment.png\n",
      "Price vs Sentiment chart saved for USDT: crypto_time_series_charts/price_vs_sentiment/USDT_price_vs_sentiment.png\n",
      "Price vs Sentiment chart saved for XRP: crypto_time_series_charts/price_vs_sentiment/XRP_price_vs_sentiment.png\n"
     ]
    }
   ],
   "source": [
    "# Create a subfolder for price vs sentiment score charts\n",
    "price_vs_sentiment_dir = os.path.join(output_dir, \"price_vs_sentiment\")\n",
    "os.makedirs(price_vs_sentiment_dir, exist_ok=True)\n",
    "\n",
    "# Generate Price Change vs Sentiment Score charts\n",
    "for symbol in historical_data['Symbol'].unique():\n",
    "    symbol_data = historical_data[historical_data['Symbol'] == symbol]\n",
    "    plt.figure(figsize=(12, 6))\n",
    "    plt.scatter(symbol_data['Sentiment_Score'], symbol_data['Price_Change'], alpha=0.6)\n",
    "    plt.title(f\"Price Change vs Sentiment Score for {symbol}\")\n",
    "    plt.xlabel(\"Sentiment Score\")\n",
    "    plt.ylabel(\"Price Change (Close - Open)\")\n",
    "    plt.tight_layout()\n",
    "    chart_path = os.path.join(price_vs_sentiment_dir, f\"{symbol}_price_vs_sentiment.png\")\n",
    "    plt.savefig(chart_path)\n",
    "    plt.close()\n",
    "    print(f\"Price vs Sentiment chart saved for {symbol}: {chart_path}\")\n"
   ]
  },
  {
   "cell_type": "code",
   "execution_count": 11,
   "metadata": {},
   "outputs": [
    {
     "name": "stdout",
     "output_type": "stream",
     "text": [
      "Comments vs Score chart saved for ADA: crypto_time_series_charts/comments_vs_score/ADA_comments_vs_score.png\n",
      "Comments vs Score chart saved for BNB: crypto_time_series_charts/comments_vs_score/BNB_comments_vs_score.png\n",
      "Comments vs Score chart saved for BTC: crypto_time_series_charts/comments_vs_score/BTC_comments_vs_score.png\n",
      "Comments vs Score chart saved for DOGE: crypto_time_series_charts/comments_vs_score/DOGE_comments_vs_score.png\n",
      "Comments vs Score chart saved for ETH: crypto_time_series_charts/comments_vs_score/ETH_comments_vs_score.png\n",
      "Comments vs Score chart saved for SOL: crypto_time_series_charts/comments_vs_score/SOL_comments_vs_score.png\n",
      "Comments vs Score chart saved for TRX: crypto_time_series_charts/comments_vs_score/TRX_comments_vs_score.png\n",
      "Comments vs Score chart saved for USDC: crypto_time_series_charts/comments_vs_score/USDC_comments_vs_score.png\n",
      "Comments vs Score chart saved for USDT: crypto_time_series_charts/comments_vs_score/USDT_comments_vs_score.png\n",
      "Comments vs Score chart saved for XRP: crypto_time_series_charts/comments_vs_score/XRP_comments_vs_score.png\n"
     ]
    }
   ],
   "source": [
    "# Create a subfolder for comments vs score charts\n",
    "comments_vs_score_dir = os.path.join(output_dir, \"comments_vs_score\")\n",
    "os.makedirs(comments_vs_score_dir, exist_ok=True)\n",
    "\n",
    "# Generate Comments vs Score charts\n",
    "for symbol in historical_data['Symbol'].unique():\n",
    "    symbol_data = historical_data[historical_data['Symbol'] == symbol]\n",
    "    plt.figure(figsize=(12, 6))\n",
    "    plt.scatter(symbol_data['Comments'], symbol_data['Score'], alpha=0.6)\n",
    "    plt.title(f\"Comments vs Score for {symbol}\")\n",
    "    plt.xlabel(\"Number of Comments\")\n",
    "    plt.ylabel(\"Score\")\n",
    "    plt.tight_layout()\n",
    "    chart_path = os.path.join(comments_vs_score_dir, f\"{symbol}_comments_vs_score.png\")\n",
    "    plt.savefig(chart_path)\n",
    "    plt.close()\n",
    "    print(f\"Comments vs Score chart saved for {symbol}: {chart_path}\")\n"
   ]
  },
  {
   "cell_type": "code",
   "execution_count": 12,
   "metadata": {},
   "outputs": [
    {
     "name": "stdout",
     "output_type": "stream",
     "text": [
      "Sentiment Over Time chart saved for ADA: crypto_time_series_charts/sentiment_over_time/ADA_sentiment_over_time.png\n",
      "Sentiment Over Time chart saved for BNB: crypto_time_series_charts/sentiment_over_time/BNB_sentiment_over_time.png\n",
      "Sentiment Over Time chart saved for BTC: crypto_time_series_charts/sentiment_over_time/BTC_sentiment_over_time.png\n",
      "Sentiment Over Time chart saved for DOGE: crypto_time_series_charts/sentiment_over_time/DOGE_sentiment_over_time.png\n",
      "Sentiment Over Time chart saved for ETH: crypto_time_series_charts/sentiment_over_time/ETH_sentiment_over_time.png\n",
      "Sentiment Over Time chart saved for SOL: crypto_time_series_charts/sentiment_over_time/SOL_sentiment_over_time.png\n",
      "Sentiment Over Time chart saved for TRX: crypto_time_series_charts/sentiment_over_time/TRX_sentiment_over_time.png\n",
      "Sentiment Over Time chart saved for USDC: crypto_time_series_charts/sentiment_over_time/USDC_sentiment_over_time.png\n",
      "Sentiment Over Time chart saved for USDT: crypto_time_series_charts/sentiment_over_time/USDT_sentiment_over_time.png\n",
      "Sentiment Over Time chart saved for XRP: crypto_time_series_charts/sentiment_over_time/XRP_sentiment_over_time.png\n"
     ]
    }
   ],
   "source": [
    "# Create a subfolder for sentiment over time charts\n",
    "sentiment_over_time_dir = os.path.join(output_dir, \"sentiment_over_time\")\n",
    "os.makedirs(sentiment_over_time_dir, exist_ok=True)\n",
    "\n",
    "# Group by Symbol and Date and calculate mean sentiment score\n",
    "sentiment_time_data = historical_data.groupby(['Symbol', 'Date']).agg(\n",
    "    Avg_Sentiment_Score=('Sentiment_Score', 'mean')\n",
    ").reset_index()\n",
    "\n",
    "# Generate Sentiment Over Time charts\n",
    "for symbol in sentiment_time_data['Symbol'].unique():\n",
    "    symbol_data = sentiment_time_data[sentiment_time_data['Symbol'] == symbol]\n",
    "    plt.figure(figsize=(12, 6))\n",
    "    plt.plot(symbol_data['Date'], symbol_data['Avg_Sentiment_Score'], label=f\"{symbol}\", marker='o')\n",
    "    plt.title(f\"Average Sentiment Score Over Time for {symbol}\")\n",
    "    plt.xlabel(\"Date\")\n",
    "    plt.ylabel(\"Average Sentiment Score\")\n",
    "    plt.xticks(rotation=45)\n",
    "    plt.tight_layout()\n",
    "    chart_path = os.path.join(sentiment_over_time_dir, f\"{symbol}_sentiment_over_time.png\")\n",
    "    plt.savefig(chart_path)\n",
    "    plt.close()\n",
    "    print(f\"Sentiment Over Time chart saved for {symbol}: {chart_path}\")\n"
   ]
  },
  {
   "cell_type": "code",
   "execution_count": 13,
   "metadata": {},
   "outputs": [
    {
     "name": "stdout",
     "output_type": "stream",
     "text": [
      "Activity Over Time chart saved for ADA: crypto_time_series_charts/activity_over_time/ADA_activity_over_time.png\n",
      "Activity Over Time chart saved for BNB: crypto_time_series_charts/activity_over_time/BNB_activity_over_time.png\n",
      "Activity Over Time chart saved for BTC: crypto_time_series_charts/activity_over_time/BTC_activity_over_time.png\n",
      "Activity Over Time chart saved for DOGE: crypto_time_series_charts/activity_over_time/DOGE_activity_over_time.png\n",
      "Activity Over Time chart saved for ETH: crypto_time_series_charts/activity_over_time/ETH_activity_over_time.png\n",
      "Activity Over Time chart saved for SOL: crypto_time_series_charts/activity_over_time/SOL_activity_over_time.png\n",
      "Activity Over Time chart saved for TRX: crypto_time_series_charts/activity_over_time/TRX_activity_over_time.png\n",
      "Activity Over Time chart saved for USDC: crypto_time_series_charts/activity_over_time/USDC_activity_over_time.png\n",
      "Activity Over Time chart saved for USDT: crypto_time_series_charts/activity_over_time/USDT_activity_over_time.png\n",
      "Activity Over Time chart saved for XRP: crypto_time_series_charts/activity_over_time/XRP_activity_over_time.png\n"
     ]
    }
   ],
   "source": [
    "# Create a subfolder for activity over time charts\n",
    "activity_over_time_dir = os.path.join(output_dir, \"activity_over_time\")\n",
    "os.makedirs(activity_over_time_dir, exist_ok=True)\n",
    "\n",
    "# Group by Symbol and Date and calculate row counts\n",
    "activity_data = historical_data.groupby(['Symbol', 'Date']).agg(\n",
    "    Total_Row_Count=('Row_Count', 'sum')\n",
    ").reset_index()\n",
    "\n",
    "# Generate Activity Over Time charts\n",
    "for symbol in activity_data['Symbol'].unique():\n",
    "    symbol_data = activity_data[activity_data['Symbol'] == symbol]\n",
    "    plt.figure(figsize=(12, 6))\n",
    "    plt.plot(symbol_data['Date'], symbol_data['Total_Row_Count'], label=f\"{symbol}\", marker='o')\n",
    "    plt.title(f\"Post Activity Over Time for {symbol}\")\n",
    "    plt.xlabel(\"Date\")\n",
    "    plt.ylabel(\"Number of Posts\")\n",
    "    plt.xticks(rotation=45)\n",
    "    plt.tight_layout()\n",
    "    chart_path = os.path.join(activity_over_time_dir, f\"{symbol}_activity_over_time.png\")\n",
    "    plt.savefig(chart_path)\n",
    "    plt.close()\n",
    "    print(f\"Activity Over Time chart saved for {symbol}: {chart_path}\")\n"
   ]
  },
  {
   "cell_type": "code",
   "execution_count": 14,
   "metadata": {},
   "outputs": [
    {
     "name": "stdout",
     "output_type": "stream",
     "text": [
      "Correlation Heatmap saved at: crypto_time_series_charts/correlation_analysis/correlation_heatmap.png\n"
     ]
    }
   ],
   "source": [
    "import seaborn as sns\n",
    "\n",
    "# Create a subfolder for correlation analysis charts\n",
    "correlation_dir = os.path.join(output_dir, \"correlation_analysis\")\n",
    "os.makedirs(correlation_dir, exist_ok=True)\n",
    "\n",
    "# Compute the correlation matrix\n",
    "correlation_matrix = historical_data[['Open', 'High', 'Low', 'Close', 'Sentiment_Score', 'Score', 'Comments', 'Price_Change']].corr()\n",
    "\n",
    "# Plot the heatmap\n",
    "plt.figure(figsize=(12, 10))\n",
    "sns.heatmap(correlation_matrix, annot=True, cmap=\"coolwarm\", fmt=\".2f\", linewidths=0.5)\n",
    "plt.title(\"Correlation Heatmap\")\n",
    "plt.tight_layout()\n",
    "\n",
    "# Save the chart\n",
    "correlation_chart_path = os.path.join(correlation_dir, \"correlation_heatmap.png\")\n",
    "plt.savefig(correlation_chart_path)\n",
    "plt.close()\n",
    "print(f\"Correlation Heatmap saved at: {correlation_chart_path}\")\n"
   ]
  },
  {
   "cell_type": "code",
   "execution_count": 15,
   "metadata": {},
   "outputs": [
    {
     "name": "stdout",
     "output_type": "stream",
     "text": [
      "Distribution Plot saved for Open: crypto_time_series_charts/distribution_plots/Open_distribution.png\n",
      "Distribution Plot saved for High: crypto_time_series_charts/distribution_plots/High_distribution.png\n",
      "Distribution Plot saved for Low: crypto_time_series_charts/distribution_plots/Low_distribution.png\n",
      "Distribution Plot saved for Close: crypto_time_series_charts/distribution_plots/Close_distribution.png\n",
      "Distribution Plot saved for Sentiment_Score: crypto_time_series_charts/distribution_plots/Sentiment_Score_distribution.png\n",
      "Distribution Plot saved for Score: crypto_time_series_charts/distribution_plots/Score_distribution.png\n",
      "Distribution Plot saved for Comments: crypto_time_series_charts/distribution_plots/Comments_distribution.png\n",
      "Distribution Plot saved for Price_Change: crypto_time_series_charts/distribution_plots/Price_Change_distribution.png\n"
     ]
    }
   ],
   "source": [
    "# Create a subfolder for distribution plots\n",
    "distribution_dir = os.path.join(output_dir, \"distribution_plots\")\n",
    "os.makedirs(distribution_dir, exist_ok=True)\n",
    "\n",
    "# Generate distribution plots for numeric features\n",
    "numeric_columns = ['Open', 'High', 'Low', 'Close', 'Sentiment_Score', 'Score', 'Comments', 'Price_Change']\n",
    "for col in numeric_columns:\n",
    "    plt.figure(figsize=(12, 6))\n",
    "    sns.histplot(historical_data[col], bins=30, kde=True, color='blue', alpha=0.7)\n",
    "    plt.title(f\"Distribution of {col}\")\n",
    "    plt.xlabel(col)\n",
    "    plt.ylabel(\"Frequency\")\n",
    "    plt.tight_layout()\n",
    "    \n",
    "    # Save the chart\n",
    "    chart_path = os.path.join(distribution_dir, f\"{col}_distribution.png\")\n",
    "    plt.savefig(chart_path)\n",
    "    plt.close()\n",
    "    print(f\"Distribution Plot saved for {col}: {chart_path}\")\n"
   ]
  },
  {
   "cell_type": "code",
   "execution_count": 16,
   "metadata": {},
   "outputs": [
    {
     "name": "stdout",
     "output_type": "stream",
     "text": [
      "Sentiment Temporal Pattern Chart saved at: crypto_time_series_charts/temporal_patterns/avg_sentiment_score_temporal.png\n",
      "Price Temporal Pattern Chart saved at: crypto_time_series_charts/temporal_patterns/avg_price_change_temporal.png\n"
     ]
    }
   ],
   "source": [
    "# Create a subfolder for temporal pattern charts\n",
    "temporal_patterns_dir = os.path.join(output_dir, \"temporal_patterns\")\n",
    "os.makedirs(temporal_patterns_dir, exist_ok=True)\n",
    "\n",
    "# Group data by year and calculate the average sentiment score and price change\n",
    "historical_data['Year'] = pd.to_datetime(historical_data['Date']).dt.year\n",
    "temporal_data = historical_data.groupby('Year').agg(\n",
    "    Avg_Sentiment_Score=('Sentiment_Score', 'mean'),\n",
    "    Avg_Price_Change=('Price_Change', 'mean')\n",
    ").reset_index()\n",
    "\n",
    "# Plot temporal patterns for average sentiment score\n",
    "plt.figure(figsize=(12, 6))\n",
    "plt.plot(temporal_data['Year'], temporal_data['Avg_Sentiment_Score'], marker='o', label=\"Average Sentiment Score\")\n",
    "plt.title(\"Temporal Pattern of Average Sentiment Score\")\n",
    "plt.xlabel(\"Year\")\n",
    "plt.ylabel(\"Average Sentiment Score\")\n",
    "plt.xticks(temporal_data['Year'], rotation=45)\n",
    "plt.legend()\n",
    "plt.tight_layout()\n",
    "\n",
    "# Save the chart\n",
    "sentiment_temporal_path = os.path.join(temporal_patterns_dir, \"avg_sentiment_score_temporal.png\")\n",
    "plt.savefig(sentiment_temporal_path)\n",
    "plt.close()\n",
    "print(f\"Sentiment Temporal Pattern Chart saved at: {sentiment_temporal_path}\")\n",
    "\n",
    "# Plot temporal patterns for average price change\n",
    "plt.figure(figsize=(12, 6))\n",
    "plt.plot(temporal_data['Year'], temporal_data['Avg_Price_Change'], marker='o', label=\"Average Price Change\", color='orange')\n",
    "plt.title(\"Temporal Pattern of Average Price Change\")\n",
    "plt.xlabel(\"Year\")\n",
    "plt.ylabel(\"Average Price Change\")\n",
    "plt.xticks(temporal_data['Year'], rotation=45)\n",
    "plt.legend()\n",
    "plt.tight_layout()\n",
    "\n",
    "# Save the chart\n",
    "price_temporal_path = os.path.join(temporal_patterns_dir, \"avg_price_change_temporal.png\")\n",
    "plt.savefig(price_temporal_path)\n",
    "plt.close()\n",
    "print(f\"Price Temporal Pattern Chart saved at: {price_temporal_path}\")\n"
   ]
  },
  {
   "cell_type": "code",
   "execution_count": 18,
   "metadata": {},
   "outputs": [
    {
     "name": "stdout",
     "output_type": "stream",
     "text": [
      "Yearly Sentiment Trend chart saved for ADA: crypto_time_series_charts/yearly_sentiment_trends/ADA_yearly_sentiment_trend.png\n",
      "Yearly Sentiment Trend chart saved for BNB: crypto_time_series_charts/yearly_sentiment_trends/BNB_yearly_sentiment_trend.png\n",
      "Yearly Sentiment Trend chart saved for BTC: crypto_time_series_charts/yearly_sentiment_trends/BTC_yearly_sentiment_trend.png\n",
      "Yearly Sentiment Trend chart saved for DOGE: crypto_time_series_charts/yearly_sentiment_trends/DOGE_yearly_sentiment_trend.png\n",
      "Yearly Sentiment Trend chart saved for ETH: crypto_time_series_charts/yearly_sentiment_trends/ETH_yearly_sentiment_trend.png\n",
      "Yearly Sentiment Trend chart saved for SOL: crypto_time_series_charts/yearly_sentiment_trends/SOL_yearly_sentiment_trend.png\n",
      "Yearly Sentiment Trend chart saved for TRX: crypto_time_series_charts/yearly_sentiment_trends/TRX_yearly_sentiment_trend.png\n",
      "Yearly Sentiment Trend chart saved for USDC: crypto_time_series_charts/yearly_sentiment_trends/USDC_yearly_sentiment_trend.png\n",
      "Yearly Sentiment Trend chart saved for USDT: crypto_time_series_charts/yearly_sentiment_trends/USDT_yearly_sentiment_trend.png\n",
      "Yearly Sentiment Trend chart saved for XRP: crypto_time_series_charts/yearly_sentiment_trends/XRP_yearly_sentiment_trend.png\n"
     ]
    }
   ],
   "source": [
    "# Create a subfolder for yearly sentiment trends\n",
    "yearly_sentiment_trends_dir = os.path.join(output_dir, \"yearly_sentiment_trends\")\n",
    "os.makedirs(yearly_sentiment_trends_dir, exist_ok=True)\n",
    "\n",
    "# Convert Date to datetime and extract the year\n",
    "historical_data['Year'] = pd.to_datetime(historical_data['Date']).dt.year\n",
    "\n",
    "# Group data by Symbol and Year to calculate average sentiment score\n",
    "yearly_sentiment_trends_data = historical_data.groupby(['Symbol', 'Year']).agg(\n",
    "    Avg_Sentiment_Score=('Sentiment_Score', 'mean')\n",
    ").reset_index()\n",
    "\n",
    "# Plot yearly sentiment trends for each cryptocurrency\n",
    "for symbol in yearly_sentiment_trends_data['Symbol'].unique():\n",
    "    symbol_data = yearly_sentiment_trends_data[yearly_sentiment_trends_data['Symbol'] == symbol]\n",
    "    plt.figure(figsize=(12, 6))\n",
    "    plt.plot(symbol_data['Year'], symbol_data['Avg_Sentiment_Score'], marker='o', label=f\"{symbol}\")\n",
    "    plt.title(f\"Yearly Sentiment Trends for {symbol}\")\n",
    "    plt.xlabel(\"Year\")\n",
    "    plt.ylabel(\"Average Sentiment Score\")\n",
    "    plt.xticks(symbol_data['Year'], rotation=45)\n",
    "    plt.legend()\n",
    "    plt.tight_layout()\n",
    "    \n",
    "    # Save the chart\n",
    "    chart_path = os.path.join(yearly_sentiment_trends_dir, f\"{symbol}_yearly_sentiment_trend.png\")\n",
    "    plt.savefig(chart_path)\n",
    "    plt.close()\n",
    "    print(f\"Yearly Sentiment Trend chart saved for {symbol}: {chart_path}\")\n"
   ]
  },
  {
   "cell_type": "code",
   "execution_count": null,
   "metadata": {},
   "outputs": [],
   "source": []
  }
 ],
 "metadata": {
  "kernelspec": {
   "display_name": "cryptoforecastpro",
   "language": "python",
   "name": "python3"
  },
  "language_info": {
   "codemirror_mode": {
    "name": "ipython",
    "version": 3
   },
   "file_extension": ".py",
   "mimetype": "text/x-python",
   "name": "python",
   "nbconvert_exporter": "python",
   "pygments_lexer": "ipython3",
   "version": "3.9.6"
  }
 },
 "nbformat": 4,
 "nbformat_minor": 2
}
