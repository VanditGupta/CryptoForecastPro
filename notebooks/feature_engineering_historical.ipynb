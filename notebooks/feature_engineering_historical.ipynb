{
 "cells": [
  {
   "cell_type": "code",
   "execution_count": 5,
   "metadata": {},
   "outputs": [],
   "source": [
    "import pandas as pd\n",
    "import os"
   ]
  },
  {
   "cell_type": "code",
   "execution_count": 8,
   "metadata": {},
   "outputs": [],
   "source": [
    "# Use current working directory for Jupyter Notebook or interactive environments\n",
    "current_script_dir = os.getcwd()\n",
    "\n",
    "historical_data_path = os.path.normpath(\n",
    "    os.path.join(current_script_dir, \"..\", \"data/historical_crypto_reddit_merged_historical/cleaned_historical_data.csv\")\n",
    ")\n",
    "output_path = os.path.normpath(\n",
    "    os.path.join(current_script_dir, \"..\", \"data/historical_crypto_reddit_merged_historical/engineered_historical_data.csv\")\n",
    ")"
   ]
  },
  {
   "cell_type": "code",
   "execution_count": 9,
   "metadata": {},
   "outputs": [],
   "source": [
    "# Load data\n",
    "historical_data = pd.read_csv(historical_data_path)"
   ]
  },
  {
   "cell_type": "code",
   "execution_count": 10,
   "metadata": {},
   "outputs": [],
   "source": [
    "# Feature Engineering\n",
    "historical_data['Price_Change'] = historical_data['Close'] - historical_data['Open']\n",
    "historical_data['Normalized_Sentiment_Score'] = historical_data['Sentiment_Score'] / historical_data['Row_Count']\n",
    "historical_data['Sentiment_Score_Interaction'] = historical_data['Sentiment_Score'] * historical_data['Score']"
   ]
  },
  {
   "cell_type": "code",
   "execution_count": 11,
   "metadata": {},
   "outputs": [
    {
     "name": "stdout",
     "output_type": "stream",
     "text": [
      "Engineered historical data saved to '/Users/vanditgupta/Vandit/Github/Projects/CryptoForecastPro/data/historical_crypto_reddit_merged_historical/engineered_historical_data.csv'\n"
     ]
    }
   ],
   "source": [
    "# Save engineered data\n",
    "os.makedirs(os.path.dirname(output_path), exist_ok=True)\n",
    "historical_data.to_csv(output_path, index=False)\n",
    "print(f\"Engineered historical data saved to '{output_path}'\")"
   ]
  },
  {
   "cell_type": "code",
   "execution_count": null,
   "metadata": {},
   "outputs": [],
   "source": []
  }
 ],
 "metadata": {
  "kernelspec": {
   "display_name": "cryptoforecastpro",
   "language": "python",
   "name": "python3"
  },
  "language_info": {
   "codemirror_mode": {
    "name": "ipython",
    "version": 3
   },
   "file_extension": ".py",
   "mimetype": "text/x-python",
   "name": "python",
   "nbconvert_exporter": "python",
   "pygments_lexer": "ipython3",
   "version": "3.9.6"
  }
 },
 "nbformat": 4,
 "nbformat_minor": 2
}
