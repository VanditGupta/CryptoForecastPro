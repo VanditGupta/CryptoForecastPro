{
 "cells": [
  {
   "cell_type": "code",
   "execution_count": 1,
   "metadata": {},
   "outputs": [],
   "source": [
    "# Import necessary libraries\n",
    "import pandas as pd\n",
    "import os"
   ]
  },
  {
   "cell_type": "code",
   "execution_count": 2,
   "metadata": {},
   "outputs": [
    {
     "name": "stdout",
     "output_type": "stream",
     "text": [
      "Daily data path: /Users/vanditgupta/Vandit/Github/Projects/CryptoForecastPro/data/daily_crypto_reddit_merged/2024-12-20/merged_crypto_reddit_data.csv\n"
     ]
    }
   ],
   "source": [
    "# Define the current date manually\n",
    "CURRENT_DATE = \"2024-12-20\"\n",
    "\n",
    "# Get the current working directory\n",
    "current_script_dir = os.getcwd()\n",
    "\n",
    "# Construct the daily data file path by going two folders back and locating the file\n",
    "daily_data_path = os.path.join(current_script_dir, \"..\", \"..\", f\"data/daily_crypto_reddit_merged/{CURRENT_DATE}/merged_crypto_reddit_data.csv\")\n",
    "\n",
    "# Normalize the path for consistency\n",
    "daily_data_path = os.path.normpath(daily_data_path)\n",
    "\n",
    "print(f\"Daily data path: {daily_data_path}\")"
   ]
  },
  {
   "cell_type": "code",
   "execution_count": 3,
   "metadata": {},
   "outputs": [],
   "source": [
    "# Load data\n",
    "daily_data = pd.read_csv(daily_data_path)"
   ]
  },
  {
   "cell_type": "code",
   "execution_count": 4,
   "metadata": {},
   "outputs": [
    {
     "name": "stdout",
     "output_type": "stream",
     "text": [
      "Daily Data Overview:\n",
      "<class 'pandas.core.frame.DataFrame'>\n",
      "RangeIndex: 1 entries, 0 to 0\n",
      "Data columns (total 22 columns):\n",
      " #   Column           Non-Null Count  Dtype  \n",
      "---  ------           --------------  -----  \n",
      " 0   Date             1 non-null      object \n",
      " 1   Symbol           1 non-null      object \n",
      " 2   Open             1 non-null      float64\n",
      " 3   High             1 non-null      float64\n",
      " 4   Low              1 non-null      float64\n",
      " 5   Close            1 non-null      float64\n",
      " 6   Sentiment_Score  1 non-null      float64\n",
      " 7   Score            1 non-null      int64  \n",
      " 8   Comments         1 non-null      int64  \n",
      " 9   Title            1 non-null      object \n",
      " 10  Content          1 non-null      object \n",
      " 11  Row_Count        1 non-null      int64  \n",
      " 12  Sentiment_Label  1 non-null      object \n",
      " 13  Sentiment_Lag_1  0 non-null      float64\n",
      " 14  Score_Lag_1      0 non-null      float64\n",
      " 15  Comments_Lag_1   0 non-null      float64\n",
      " 16  Sentiment_Lag_3  0 non-null      float64\n",
      " 17  Score_Lag_3      0 non-null      float64\n",
      " 18  Comments_Lag_3   0 non-null      float64\n",
      " 19  Sentiment_Lag_7  0 non-null      float64\n",
      " 20  Score_Lag_7      0 non-null      float64\n",
      " 21  Comments_Lag_7   0 non-null      float64\n",
      "dtypes: float64(14), int64(3), object(5)\n",
      "memory usage: 304.0+ bytes\n",
      "None\n"
     ]
    }
   ],
   "source": [
    "# Display basic information\n",
    "print(\"Daily Data Overview:\")\n",
    "print(daily_data.info())"
   ]
  },
  {
   "cell_type": "code",
   "execution_count": 5,
   "metadata": {},
   "outputs": [
    {
     "name": "stdout",
     "output_type": "stream",
     "text": [
      "\n",
      "Missing Values in Daily Data:\n",
      "Date               0\n",
      "Symbol             0\n",
      "Open               0\n",
      "High               0\n",
      "Low                0\n",
      "Close              0\n",
      "Sentiment_Score    0\n",
      "Score              0\n",
      "Comments           0\n",
      "Title              0\n",
      "Content            0\n",
      "Row_Count          0\n",
      "Sentiment_Label    0\n",
      "Sentiment_Lag_1    1\n",
      "Score_Lag_1        1\n",
      "Comments_Lag_1     1\n",
      "Sentiment_Lag_3    1\n",
      "Score_Lag_3        1\n",
      "Comments_Lag_3     1\n",
      "Sentiment_Lag_7    1\n",
      "Score_Lag_7        1\n",
      "Comments_Lag_7     1\n",
      "dtype: int64\n"
     ]
    }
   ],
   "source": [
    "# Check for missing values\n",
    "print(\"\\nMissing Values in Daily Data:\")\n",
    "print(daily_data.isnull().sum())"
   ]
  },
  {
   "cell_type": "code",
   "execution_count": 6,
   "metadata": {},
   "outputs": [
    {
     "name": "stderr",
     "output_type": "stream",
     "text": [
      "/var/folders/wr/zc6wwttj521cw_5njq3h828m0000gn/T/ipykernel_71231/2847240366.py:2: FutureWarning: A value is trying to be set on a copy of a DataFrame or Series through chained assignment using an inplace method.\n",
      "The behavior will change in pandas 3.0. This inplace method will never work because the intermediate object on which we are setting values always behaves as a copy.\n",
      "\n",
      "For example, when doing 'df[col].method(value, inplace=True)', try using 'df.method({col: value}, inplace=True)' or df[col] = df[col].method(value) instead, to perform the operation inplace on the original object.\n",
      "\n",
      "\n",
      "  daily_data['Symbol'].fillna('Unknown', inplace=True)\n"
     ]
    }
   ],
   "source": [
    "# Fill missing values\n",
    "daily_data['Symbol'].fillna('Unknown', inplace=True)\n",
    "daily_data.fillna(0, inplace=True) "
   ]
  },
  {
   "cell_type": "code",
   "execution_count": 7,
   "metadata": {},
   "outputs": [
    {
     "name": "stdout",
     "output_type": "stream",
     "text": [
      "\n",
      "Invalid Dates in Daily Data:\n",
      "Empty DataFrame\n",
      "Columns: [Date, Symbol, Open, High, Low, Close, Sentiment_Score, Score, Comments, Title, Content, Row_Count, Sentiment_Label, Sentiment_Lag_1, Score_Lag_1, Comments_Lag_1, Sentiment_Lag_3, Score_Lag_3, Comments_Lag_3, Sentiment_Lag_7, Score_Lag_7, Comments_Lag_7]\n",
      "Index: []\n",
      "\n",
      "[0 rows x 22 columns]\n"
     ]
    }
   ],
   "source": [
    "# Validate date column\n",
    "daily_data['Date'] = pd.to_datetime(daily_data['Date'], errors='coerce')\n",
    "print(\"\\nInvalid Dates in Daily Data:\")\n",
    "print(daily_data[daily_data['Date'].isnull()])"
   ]
  },
  {
   "cell_type": "code",
   "execution_count": 8,
   "metadata": {},
   "outputs": [],
   "source": [
    "# Ensure numeric columns are valid\n",
    "numeric_columns = ['Open', 'High', 'Low', 'Close', 'Sentiment_Score', 'Score', 'Comments']\n",
    "for col in numeric_columns:\n",
    "    daily_data[col] = pd.to_numeric(daily_data[col], errors='coerce')"
   ]
  },
  {
   "cell_type": "code",
   "execution_count": 9,
   "metadata": {},
   "outputs": [],
   "source": [
    "# Drop rows with invalid numeric data\n",
    "daily_data.dropna(subset=numeric_columns, inplace=True)"
   ]
  },
  {
   "cell_type": "code",
   "execution_count": 10,
   "metadata": {},
   "outputs": [],
   "source": [
    "# Ensure Sentiment_Label contains valid categories\n",
    "valid_labels = ['Positive', 'Neutral', 'Negative']\n",
    "daily_data['Sentiment_Label'] = daily_data['Sentiment_Label'].where(\n",
    "    daily_data['Sentiment_Label'].isin(valid_labels), 'Neutral'\n",
    ")"
   ]
  },
  {
   "cell_type": "code",
   "execution_count": 11,
   "metadata": {},
   "outputs": [],
   "source": [
    "# Remove duplicates\n",
    "daily_data.drop_duplicates(inplace=True)"
   ]
  },
  {
   "cell_type": "code",
   "execution_count": 12,
   "metadata": {},
   "outputs": [
    {
     "name": "stdout",
     "output_type": "stream",
     "text": [
      "Cleaned daily data saved to '/Users/vanditgupta/Vandit/Github/Projects/CryptoForecastPro/data/daily_crypto_reddit_merged/2024-12-20/cleaned_daily_data.csv'\n"
     ]
    }
   ],
   "source": [
    "# Define the file paths dynamically\n",
    "cleaned_daily_data_path = os.path.join(current_script_dir, \"..\", \"..\", f\"data/daily_crypto_reddit_merged/{CURRENT_DATE}/cleaned_daily_data.csv\")\n",
    "\n",
    "# Normalize the path for consistency\n",
    "cleaned_daily_data_path = os.path.normpath(cleaned_daily_data_path)\n",
    "\n",
    "# Save the cleaned daily data\n",
    "daily_data.to_csv(cleaned_daily_data_path, index=False)\n",
    "print(f\"Cleaned daily data saved to '{cleaned_daily_data_path}'\")\n"
   ]
  },
  {
   "cell_type": "code",
   "execution_count": null,
   "metadata": {},
   "outputs": [],
   "source": []
  }
 ],
 "metadata": {
  "kernelspec": {
   "display_name": "cryptoforecastpro",
   "language": "python",
   "name": "python3"
  },
  "language_info": {
   "codemirror_mode": {
    "name": "ipython",
    "version": 3
   },
   "file_extension": ".py",
   "mimetype": "text/x-python",
   "name": "python",
   "nbconvert_exporter": "python",
   "pygments_lexer": "ipython3",
   "version": "3.9.6"
  }
 },
 "nbformat": 4,
 "nbformat_minor": 2
}
