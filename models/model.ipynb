{
 "cells": [
  {
   "cell_type": "code",
   "execution_count": 33,
   "metadata": {},
   "outputs": [],
   "source": [
    "import pandas as pd\n",
    "from statsmodels.tsa.api import VAR\n",
    "from sklearn.preprocessing import LabelEncoder, StandardScaler\n",
    "from statsmodels.stats.correlation_tools import corr_nearest\n",
    "from datetime import datetime\n",
    "import os"
   ]
  },
  {
   "cell_type": "code",
   "execution_count": 18,
   "metadata": {},
   "outputs": [],
   "source": [
    "# Define file paths\n",
    "historical_data_path = \"../data/historical_crypto_reddit_merged_historical/engineered_historical_data.csv\"\n",
    "daily_data_path = f\"../data/daily_crypto_reddit_merged/{datetime.now().strftime('%Y-%m-%d')}/merged_crypto_reddit_data.csv\""
   ]
  },
  {
   "cell_type": "code",
   "execution_count": 19,
   "metadata": {},
   "outputs": [],
   "source": [
    "# Load data\n",
    "historical_data = pd.read_csv(historical_data_path)\n",
    "daily_data = pd.read_csv(daily_data_path)"
   ]
  },
  {
   "cell_type": "code",
   "execution_count": 20,
   "metadata": {},
   "outputs": [],
   "source": [
    "# Drop unnecessary columns\n",
    "columns_to_drop = ['Title', 'Content', 'Sentiment_Label']\n",
    "historical_data.drop(columns=columns_to_drop, inplace=True)\n",
    "daily_data.drop(columns=columns_to_drop, inplace=True)"
   ]
  },
  {
   "cell_type": "code",
   "execution_count": 21,
   "metadata": {},
   "outputs": [],
   "source": [
    "# Label encode the Symbol column\n",
    "label_encoder = LabelEncoder()\n",
    "historical_data['Symbol'] = label_encoder.fit_transform(historical_data['Symbol'])\n",
    "daily_data['Symbol'] = label_encoder.transform(daily_data['Symbol'])"
   ]
  },
  {
   "cell_type": "code",
   "execution_count": 23,
   "metadata": {},
   "outputs": [],
   "source": [
    "# Ensure 'Date' is in datetime format\n",
    "historical_data['Date'] = pd.to_datetime(historical_data['Date'], errors='coerce')"
   ]
  },
  {
   "cell_type": "code",
   "execution_count": 24,
   "metadata": {},
   "outputs": [],
   "source": [
    "# Drop rows where 'Date' could not be converted\n",
    "historical_data.dropna(subset=['Date'], inplace=True)"
   ]
  },
  {
   "cell_type": "code",
   "execution_count": 25,
   "metadata": {},
   "outputs": [],
   "source": [
    "# Sort data by Symbol and Date\n",
    "historical_data.sort_values(by=['Symbol', 'Date'], inplace=True)"
   ]
  },
  {
   "cell_type": "code",
   "execution_count": 26,
   "metadata": {},
   "outputs": [],
   "source": [
    "# Select relevant features\n",
    "features = ['Date', 'Symbol', 'Open', 'High', 'Low', 'Close', 'Price_Change', 'Sentiment_Score', \n",
    "            'Score', 'Comments', 'Row_Count', 'Normalized_Sentiment_Score', 'Sentiment_Score_Interaction']\n",
    "historical_data = historical_data[features]"
   ]
  },
  {
   "cell_type": "code",
   "execution_count": 27,
   "metadata": {},
   "outputs": [],
   "source": [
    "# Set 'Date' as the index for time-series analysis\n",
    "historical_data.set_index('Date', inplace=True)"
   ]
  },
  {
   "cell_type": "code",
   "execution_count": 28,
   "metadata": {},
   "outputs": [],
   "source": [
    "# Pivot the data to make it suitable for VAR (one symbol at a time)\n",
    "pivoted_data = {}\n",
    "for symbol in historical_data['Symbol'].unique():\n",
    "    symbol_data = historical_data[historical_data['Symbol'] == symbol].copy()\n",
    "    pivoted_data[symbol] = symbol_data.drop('Symbol', axis=1)  # Drop Symbol column after grouping"
   ]
  },
  {
   "cell_type": "code",
   "execution_count": 34,
   "metadata": {},
   "outputs": [
    {
     "name": "stderr",
     "output_type": "stream",
     "text": [
      "/Users/vanditgupta/Vandit/Github/Projects/CryptoForecastPro/cryptoforecastpro/lib/python3.9/site-packages/statsmodels/tsa/base/tsa_model.py:473: ValueWarning: A date index has been provided, but it has no associated frequency information and so will be ignored when e.g. forecasting.\n",
      "  self._init_dates(dates, freq)\n",
      "/Users/vanditgupta/Vandit/Github/Projects/CryptoForecastPro/cryptoforecastpro/lib/python3.9/site-packages/statsmodels/tsa/base/tsa_model.py:473: ValueWarning: A date index has been provided, but it has no associated frequency information and so will be ignored when e.g. forecasting.\n",
      "  self._init_dates(dates, freq)\n",
      "/Users/vanditgupta/Vandit/Github/Projects/CryptoForecastPro/cryptoforecastpro/lib/python3.9/site-packages/statsmodels/stats/correlation_tools.py:89: IterationLimitWarning: \n",
      "Maximum iteration reached.\n",
      "\n",
      "  warnings.warn(iteration_limit_doc, IterationLimitWarning)\n",
      "/Users/vanditgupta/Vandit/Github/Projects/CryptoForecastPro/cryptoforecastpro/lib/python3.9/site-packages/statsmodels/tsa/base/tsa_model.py:473: ValueWarning: A date index has been provided, but it has no associated frequency information and so will be ignored when e.g. forecasting.\n",
      "  self._init_dates(dates, freq)\n",
      "/Users/vanditgupta/Vandit/Github/Projects/CryptoForecastPro/cryptoforecastpro/lib/python3.9/site-packages/statsmodels/tsa/base/tsa_model.py:473: ValueWarning: A date index has been provided, but it has no associated frequency information and so will be ignored when e.g. forecasting.\n",
      "  self._init_dates(dates, freq)\n",
      "/Users/vanditgupta/Vandit/Github/Projects/CryptoForecastPro/cryptoforecastpro/lib/python3.9/site-packages/statsmodels/tsa/base/tsa_model.py:473: ValueWarning: A date index has been provided, but it has no associated frequency information and so will be ignored when e.g. forecasting.\n",
      "  self._init_dates(dates, freq)\n",
      "/Users/vanditgupta/Vandit/Github/Projects/CryptoForecastPro/cryptoforecastpro/lib/python3.9/site-packages/statsmodels/tsa/base/tsa_model.py:473: ValueWarning: A date index has been provided, but it has no associated frequency information and so will be ignored when e.g. forecasting.\n",
      "  self._init_dates(dates, freq)\n"
     ]
    },
    {
     "name": "stdout",
     "output_type": "stream",
     "text": [
      "Error training VAR model for 0: 5-th leading minor of the array is not positive definite\n",
      "Error training VAR model for 1: 5-th leading minor of the array is not positive definite\n",
      "Error training VAR model for 2: 5-th leading minor of the array is not positive definite\n",
      "Error training VAR model for 3: 5-th leading minor of the array is not positive definite\n",
      "Error training VAR model for 4: 5-th leading minor of the array is not positive definite\n",
      "Error training VAR model for 5: 5-th leading minor of the array is not positive definite\n",
      "Error training VAR model for 6: 5-th leading minor of the array is not positive definite\n",
      "Trained VAR model for symbol: 7\n",
      "Trained VAR model for symbol: 8\n",
      "Error training VAR model for 9: 5-th leading minor of the array is not positive definite\n"
     ]
    },
    {
     "name": "stderr",
     "output_type": "stream",
     "text": [
      "/Users/vanditgupta/Vandit/Github/Projects/CryptoForecastPro/cryptoforecastpro/lib/python3.9/site-packages/statsmodels/stats/correlation_tools.py:89: IterationLimitWarning: \n",
      "Maximum iteration reached.\n",
      "\n",
      "  warnings.warn(iteration_limit_doc, IterationLimitWarning)\n",
      "/Users/vanditgupta/Vandit/Github/Projects/CryptoForecastPro/cryptoforecastpro/lib/python3.9/site-packages/statsmodels/tsa/base/tsa_model.py:473: ValueWarning: A date index has been provided, but it has no associated frequency information and so will be ignored when e.g. forecasting.\n",
      "  self._init_dates(dates, freq)\n",
      "/Users/vanditgupta/Vandit/Github/Projects/CryptoForecastPro/cryptoforecastpro/lib/python3.9/site-packages/statsmodels/tsa/base/tsa_model.py:473: ValueWarning: A date index has been provided, but it has no associated frequency information and so will be ignored when e.g. forecasting.\n",
      "  self._init_dates(dates, freq)\n",
      "/Users/vanditgupta/Vandit/Github/Projects/CryptoForecastPro/cryptoforecastpro/lib/python3.9/site-packages/statsmodels/stats/correlation_tools.py:89: IterationLimitWarning: \n",
      "Maximum iteration reached.\n",
      "\n",
      "  warnings.warn(iteration_limit_doc, IterationLimitWarning)\n",
      "/Users/vanditgupta/Vandit/Github/Projects/CryptoForecastPro/cryptoforecastpro/lib/python3.9/site-packages/statsmodels/tsa/base/tsa_model.py:473: ValueWarning: A date index has been provided, but it has no associated frequency information and so will be ignored when e.g. forecasting.\n",
      "  self._init_dates(dates, freq)\n",
      "/Users/vanditgupta/Vandit/Github/Projects/CryptoForecastPro/cryptoforecastpro/lib/python3.9/site-packages/statsmodels/tsa/base/tsa_model.py:473: ValueWarning: A date index has been provided, but it has no associated frequency information and so will be ignored when e.g. forecasting.\n",
      "  self._init_dates(dates, freq)\n"
     ]
    }
   ],
   "source": [
    "# Train VAR models for each symbol\n",
    "var_models = {}\n",
    "for symbol, data in pivoted_data.items():\n",
    "    # Drop rows with missing values\n",
    "    data = data.dropna()\n",
    "    \n",
    "    # Ensure the data is stationary (differencing if necessary)\n",
    "    data_diff = data.diff().dropna()\n",
    "    \n",
    "    if data_diff.empty:\n",
    "        print(f\"Insufficient data for VAR model training for symbol: {symbol}\")\n",
    "        continue\n",
    "    \n",
    "    # Scale the data\n",
    "    scaler = StandardScaler()\n",
    "    data_diff_scaled = pd.DataFrame(\n",
    "        scaler.fit_transform(data_diff),\n",
    "        columns=data_diff.columns,\n",
    "        index=data_diff.index\n",
    "    )\n",
    "    \n",
    "    # Ensure the correlation matrix is positive definite\n",
    "    corr_matrix = data_diff_scaled.corr()\n",
    "    corr_matrix = corr_nearest(corr_matrix)  # Make the correlation matrix nearest positive definite\n",
    "    \n",
    "    # Attempt VAR model training\n",
    "    try:\n",
    "        # Fit VAR model with fewer lags\n",
    "        var_model = VAR(data_diff_scaled)\n",
    "        var_results = var_model.fit(maxlags=3, ic='aic')  # Further reduced maxlags\n",
    "        var_models[symbol] = (var_model, var_results)\n",
    "        print(f\"Trained VAR model for symbol: {symbol}\")\n",
    "    except Exception as e:\n",
    "        print(f\"Error training VAR model for {symbol}: {e}\")"
   ]
  },
  {
   "cell_type": "code",
   "execution_count": 36,
   "metadata": {},
   "outputs": [
    {
     "name": "stdout",
     "output_type": "stream",
     "text": [
      "Error during forecasting for 7: index 0 is out of bounds for axis 0 with size 0\n",
      "Error during forecasting for 8: index 0 is out of bounds for axis 0 with size 0\n",
      "No forecasts were generated due to insufficient data.\n"
     ]
    }
   ],
   "source": [
    "# Forecast for the next day\n",
    "forecast_results = {}\n",
    "for symbol, (var_model, var_results) in var_models.items():\n",
    "    # Get the required number of lags for forecasting\n",
    "    k_ar = var_results.k_ar\n",
    "    last_values = pivoted_data[symbol].iloc[-k_ar:]\n",
    "    \n",
    "    # Ensure there are enough rows to match the number of lags\n",
    "    if last_values.shape[0] < k_ar:\n",
    "        print(f\"Insufficient data for forecasting for symbol: {symbol}\")\n",
    "        continue\n",
    "\n",
    "    # Ensure the data is stationary and scaled\n",
    "    last_values_diff = last_values.diff().dropna()\n",
    "    if last_values_diff.empty:\n",
    "        print(f\"No differenced data available for forecasting for symbol: {symbol}\")\n",
    "        continue\n",
    "\n",
    "    try:\n",
    "        last_values_scaled = scaler.transform(last_values_diff)\n",
    "        # Forecast the next day\n",
    "        forecast = var_results.forecast(last_values_scaled, steps=1)\n",
    "        forecast_df = pd.DataFrame(forecast, columns=pivoted_data[symbol].columns)\n",
    "        forecast_results[symbol] = forecast_df\n",
    "        print(f\"Forecast for {symbol}:\\n{forecast_df}\")\n",
    "    except Exception as e:\n",
    "        print(f\"Error during forecasting for {symbol}: {e}\")\n",
    "\n",
    "# Combine forecasts for all symbols into a single DataFrame\n",
    "if forecast_results:\n",
    "    final_forecast = pd.concat(forecast_results, keys=forecast_results.keys())\n",
    "    final_forecast.reset_index(level=1, drop=True, inplace=True)\n",
    "    final_forecast.rename(columns=lambda col: f\"Forecast_{col}\", inplace=True)\n",
    "    print(\"Combined Forecast:\\n\", final_forecast)\n",
    "\n",
    "    # Save the forecast to a CSV file\n",
    "    output_path = \"data/forecasted_crypto_prices.csv\"\n",
    "    os.makedirs(os.path.dirname(output_path), exist_ok=True)\n",
    "    final_forecast.to_csv(output_path, index_label='Symbol')\n",
    "    print(f\"Forecast saved to {output_path}\")\n",
    "else:\n",
    "    print(\"No forecasts were generated due to insufficient data.\")\n"
   ]
  },
  {
   "cell_type": "code",
   "execution_count": 37,
   "metadata": {},
   "outputs": [
    {
     "ename": "ValueError",
     "evalue": "No objects to concatenate",
     "output_type": "error",
     "traceback": [
      "\u001b[0;31m---------------------------------------------------------------------------\u001b[0m",
      "\u001b[0;31mValueError\u001b[0m                                Traceback (most recent call last)",
      "Cell \u001b[0;32mIn[37], line 2\u001b[0m\n\u001b[1;32m      1\u001b[0m \u001b[38;5;66;03m# Combine forecasts for all symbols into a single DataFrame\u001b[39;00m\n\u001b[0;32m----> 2\u001b[0m final_forecast \u001b[38;5;241m=\u001b[39m \u001b[43mpd\u001b[49m\u001b[38;5;241;43m.\u001b[39;49m\u001b[43mconcat\u001b[49m\u001b[43m(\u001b[49m\u001b[43mforecast_results\u001b[49m\u001b[43m,\u001b[49m\u001b[43m \u001b[49m\u001b[43mkeys\u001b[49m\u001b[38;5;241;43m=\u001b[39;49m\u001b[43mforecast_results\u001b[49m\u001b[38;5;241;43m.\u001b[39;49m\u001b[43mkeys\u001b[49m\u001b[43m(\u001b[49m\u001b[43m)\u001b[49m\u001b[43m)\u001b[49m\n\u001b[1;32m      3\u001b[0m final_forecast\u001b[38;5;241m.\u001b[39mreset_index(level\u001b[38;5;241m=\u001b[39m\u001b[38;5;241m1\u001b[39m, drop\u001b[38;5;241m=\u001b[39m\u001b[38;5;28;01mTrue\u001b[39;00m, inplace\u001b[38;5;241m=\u001b[39m\u001b[38;5;28;01mTrue\u001b[39;00m)\n\u001b[1;32m      4\u001b[0m final_forecast\u001b[38;5;241m.\u001b[39mrename(columns\u001b[38;5;241m=\u001b[39m\u001b[38;5;28;01mlambda\u001b[39;00m col: \u001b[38;5;124mf\u001b[39m\u001b[38;5;124m\"\u001b[39m\u001b[38;5;124mForecast_\u001b[39m\u001b[38;5;132;01m{\u001b[39;00mcol\u001b[38;5;132;01m}\u001b[39;00m\u001b[38;5;124m\"\u001b[39m, inplace\u001b[38;5;241m=\u001b[39m\u001b[38;5;28;01mTrue\u001b[39;00m)\n",
      "File \u001b[0;32m~/Vandit/Github/Projects/CryptoForecastPro/cryptoforecastpro/lib/python3.9/site-packages/pandas/core/reshape/concat.py:382\u001b[0m, in \u001b[0;36mconcat\u001b[0;34m(objs, axis, join, ignore_index, keys, levels, names, verify_integrity, sort, copy)\u001b[0m\n\u001b[1;32m    379\u001b[0m \u001b[38;5;28;01melif\u001b[39;00m copy \u001b[38;5;129;01mand\u001b[39;00m using_copy_on_write():\n\u001b[1;32m    380\u001b[0m     copy \u001b[38;5;241m=\u001b[39m \u001b[38;5;28;01mFalse\u001b[39;00m\n\u001b[0;32m--> 382\u001b[0m op \u001b[38;5;241m=\u001b[39m \u001b[43m_Concatenator\u001b[49m\u001b[43m(\u001b[49m\n\u001b[1;32m    383\u001b[0m \u001b[43m    \u001b[49m\u001b[43mobjs\u001b[49m\u001b[43m,\u001b[49m\n\u001b[1;32m    384\u001b[0m \u001b[43m    \u001b[49m\u001b[43maxis\u001b[49m\u001b[38;5;241;43m=\u001b[39;49m\u001b[43maxis\u001b[49m\u001b[43m,\u001b[49m\n\u001b[1;32m    385\u001b[0m \u001b[43m    \u001b[49m\u001b[43mignore_index\u001b[49m\u001b[38;5;241;43m=\u001b[39;49m\u001b[43mignore_index\u001b[49m\u001b[43m,\u001b[49m\n\u001b[1;32m    386\u001b[0m \u001b[43m    \u001b[49m\u001b[43mjoin\u001b[49m\u001b[38;5;241;43m=\u001b[39;49m\u001b[43mjoin\u001b[49m\u001b[43m,\u001b[49m\n\u001b[1;32m    387\u001b[0m \u001b[43m    \u001b[49m\u001b[43mkeys\u001b[49m\u001b[38;5;241;43m=\u001b[39;49m\u001b[43mkeys\u001b[49m\u001b[43m,\u001b[49m\n\u001b[1;32m    388\u001b[0m \u001b[43m    \u001b[49m\u001b[43mlevels\u001b[49m\u001b[38;5;241;43m=\u001b[39;49m\u001b[43mlevels\u001b[49m\u001b[43m,\u001b[49m\n\u001b[1;32m    389\u001b[0m \u001b[43m    \u001b[49m\u001b[43mnames\u001b[49m\u001b[38;5;241;43m=\u001b[39;49m\u001b[43mnames\u001b[49m\u001b[43m,\u001b[49m\n\u001b[1;32m    390\u001b[0m \u001b[43m    \u001b[49m\u001b[43mverify_integrity\u001b[49m\u001b[38;5;241;43m=\u001b[39;49m\u001b[43mverify_integrity\u001b[49m\u001b[43m,\u001b[49m\n\u001b[1;32m    391\u001b[0m \u001b[43m    \u001b[49m\u001b[43mcopy\u001b[49m\u001b[38;5;241;43m=\u001b[39;49m\u001b[43mcopy\u001b[49m\u001b[43m,\u001b[49m\n\u001b[1;32m    392\u001b[0m \u001b[43m    \u001b[49m\u001b[43msort\u001b[49m\u001b[38;5;241;43m=\u001b[39;49m\u001b[43msort\u001b[49m\u001b[43m,\u001b[49m\n\u001b[1;32m    393\u001b[0m \u001b[43m\u001b[49m\u001b[43m)\u001b[49m\n\u001b[1;32m    395\u001b[0m \u001b[38;5;28;01mreturn\u001b[39;00m op\u001b[38;5;241m.\u001b[39mget_result()\n",
      "File \u001b[0;32m~/Vandit/Github/Projects/CryptoForecastPro/cryptoforecastpro/lib/python3.9/site-packages/pandas/core/reshape/concat.py:445\u001b[0m, in \u001b[0;36m_Concatenator.__init__\u001b[0;34m(self, objs, axis, join, keys, levels, names, ignore_index, verify_integrity, copy, sort)\u001b[0m\n\u001b[1;32m    442\u001b[0m \u001b[38;5;28mself\u001b[39m\u001b[38;5;241m.\u001b[39mverify_integrity \u001b[38;5;241m=\u001b[39m verify_integrity\n\u001b[1;32m    443\u001b[0m \u001b[38;5;28mself\u001b[39m\u001b[38;5;241m.\u001b[39mcopy \u001b[38;5;241m=\u001b[39m copy\n\u001b[0;32m--> 445\u001b[0m objs, keys \u001b[38;5;241m=\u001b[39m \u001b[38;5;28;43mself\u001b[39;49m\u001b[38;5;241;43m.\u001b[39;49m\u001b[43m_clean_keys_and_objs\u001b[49m\u001b[43m(\u001b[49m\u001b[43mobjs\u001b[49m\u001b[43m,\u001b[49m\u001b[43m \u001b[49m\u001b[43mkeys\u001b[49m\u001b[43m)\u001b[49m\n\u001b[1;32m    447\u001b[0m \u001b[38;5;66;03m# figure out what our result ndim is going to be\u001b[39;00m\n\u001b[1;32m    448\u001b[0m ndims \u001b[38;5;241m=\u001b[39m \u001b[38;5;28mself\u001b[39m\u001b[38;5;241m.\u001b[39m_get_ndims(objs)\n",
      "File \u001b[0;32m~/Vandit/Github/Projects/CryptoForecastPro/cryptoforecastpro/lib/python3.9/site-packages/pandas/core/reshape/concat.py:507\u001b[0m, in \u001b[0;36m_Concatenator._clean_keys_and_objs\u001b[0;34m(self, objs, keys)\u001b[0m\n\u001b[1;32m    504\u001b[0m     objs_list \u001b[38;5;241m=\u001b[39m \u001b[38;5;28mlist\u001b[39m(objs)\n\u001b[1;32m    506\u001b[0m \u001b[38;5;28;01mif\u001b[39;00m \u001b[38;5;28mlen\u001b[39m(objs_list) \u001b[38;5;241m==\u001b[39m \u001b[38;5;241m0\u001b[39m:\n\u001b[0;32m--> 507\u001b[0m     \u001b[38;5;28;01mraise\u001b[39;00m \u001b[38;5;167;01mValueError\u001b[39;00m(\u001b[38;5;124m\"\u001b[39m\u001b[38;5;124mNo objects to concatenate\u001b[39m\u001b[38;5;124m\"\u001b[39m)\n\u001b[1;32m    509\u001b[0m \u001b[38;5;28;01mif\u001b[39;00m keys \u001b[38;5;129;01mis\u001b[39;00m \u001b[38;5;28;01mNone\u001b[39;00m:\n\u001b[1;32m    510\u001b[0m     objs_list \u001b[38;5;241m=\u001b[39m \u001b[38;5;28mlist\u001b[39m(com\u001b[38;5;241m.\u001b[39mnot_none(\u001b[38;5;241m*\u001b[39mobjs_list))\n",
      "\u001b[0;31mValueError\u001b[0m: No objects to concatenate"
     ]
    }
   ],
   "source": [
    "# Combine forecasts for all symbols into a single DataFrame\n",
    "final_forecast = pd.concat(forecast_results, keys=forecast_results.keys())\n",
    "final_forecast.reset_index(level=1, drop=True, inplace=True)\n",
    "final_forecast.rename(columns=lambda col: f\"Forecast_{col}\", inplace=True)\n",
    "print(\"Combined Forecast:\\n\", final_forecast)\n",
    "\n",
    "# Save the forecast to a CSV file\n",
    "output_path = \"data/forecasted_crypto_prices.csv\"\n",
    "os.makedirs(os.path.dirname(output_path), exist_ok=True)\n",
    "final_forecast.to_csv(output_path, index_label='Symbol')\n",
    "print(f\"Forecast saved to {output_path}\")"
   ]
  },
  {
   "cell_type": "code",
   "execution_count": null,
   "metadata": {},
   "outputs": [],
   "source": []
  }
 ],
 "metadata": {
  "kernelspec": {
   "display_name": "cryptoforecastpro",
   "language": "python",
   "name": "python3"
  },
  "language_info": {
   "codemirror_mode": {
    "name": "ipython",
    "version": 3
   },
   "file_extension": ".py",
   "mimetype": "text/x-python",
   "name": "python",
   "nbconvert_exporter": "python",
   "pygments_lexer": "ipython3",
   "version": "3.9.6"
  }
 },
 "nbformat": 4,
 "nbformat_minor": 2
}
